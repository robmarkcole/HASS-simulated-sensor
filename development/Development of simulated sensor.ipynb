{
 "cells": [
  {
   "cell_type": "markdown",
   "metadata": {},
   "source": [
    "Adds a noisy sine wave simulator"
   ]
  },
  {
   "cell_type": "code",
   "execution_count": 1,
   "metadata": {},
   "outputs": [],
   "source": [
    "import numpy as np\n",
    "import matplotlib.pyplot as plt\n",
    "import datetime as dt\n",
    "import time\n",
    "%matplotlib inline"
   ]
  },
  {
   "cell_type": "code",
   "execution_count": 74,
   "metadata": {},
   "outputs": [],
   "source": [
    "class SimulatedSensor():\n",
    "    \"\"\"Class for simulated sensor.\"\"\"\n",
    "\n",
    "    def __init__(self, name, unit_of_measurement, period_s, seed):\n",
    "        \"\"\"Initialize the sensor.\"\"\"\n",
    "        self._name = name\n",
    "        self._unit_of_measurement = unit_of_measurement\n",
    "        self._seed = seed\n",
    "        self._state = None\n",
    "        self._start_time = dt.datetime.now()\n",
    "        self._mean = None # The mean level\n",
    "        self._amplitude = 1.0 # The wave amplitude\n",
    "        self._period_s = dt.timedelta(seconds=period_s)  # The time period in seconds\n",
    "        self._noise = None # % (percent) of the amplitude\n",
    "\n",
    "    @property\n",
    "    def name(self):\n",
    "        \"\"\"Return the name of the sensor.\"\"\"\n",
    "        return self._name\n",
    "\n",
    "    @property\n",
    "    def state(self):\n",
    "        \"\"\"Return the state of the sensor.\"\"\"\n",
    "        return self._state\n",
    "\n",
    "    @property\n",
    "    def icon(self):\n",
    "        \"\"\"Icon to use in the frontend, if any.\"\"\"\n",
    "        return ICON\n",
    "    \n",
    "    def update(self):\n",
    "        \"\"\"Update the sensor.\"\"\"\n",
    "        elapsed_time_s = (dt.datetime.now() - self._start_time).seconds\n",
    "        \n",
    "        elapsed_periods = int(self.safe_division(elapsed_time_s, self._period_s.seconds))\n",
    "        phase = self.safe_division(\n",
    "                self._period_s.seconds, elapsed_time_s - (elapsed_periods*self._period_s.seconds))\n",
    "        self._state = self._amplitude*np.sin(phase*2*np.pi) #np.random.random()\n",
    "        \n",
    "    def safe_division(self, x, y):\n",
    "        if y == 0:\n",
    "            return 0\n",
    "        return x / y\n",
    "\n",
    "    @property\n",
    "    def unit_of_measurement(self):\n",
    "        \"\"\"Return the unit this state is expressed in.\"\"\"\n",
    "        return self._unit_of_measurement\n",
    "\n",
    "    @property\n",
    "    def device_state_attributes(self):\n",
    "        \"\"\"Return other details about the sensor state.\"\"\"\n",
    "        attr = {\n",
    "            'seed': self._seed,\n",
    "            'start_time': self._start_time,\n",
    "            }\n",
    "        return attr"
   ]
  },
  {
   "cell_type": "code",
   "execution_count": 71,
   "metadata": {},
   "outputs": [],
   "source": [
    "name = 'simulated_sine'\n",
    "unit_of_measurement = None\n",
    "period_s = 60\n",
    "seed = 100"
   ]
  },
  {
   "cell_type": "code",
   "execution_count": 72,
   "metadata": {},
   "outputs": [],
   "source": [
    "readings = []\n",
    "sensor1 = SimulatedSensor(name, unit_of_measurement, period_s, seed)\n",
    "for i in range(period_s):\n",
    "    sensor1.update()\n",
    "    readings.append(sensor1.state)\n",
    "    time.sleep(1)"
   ]
  },
  {
   "cell_type": "code",
   "execution_count": 73,
   "metadata": {},
   "outputs": [
    {
     "data": {
      "image/png": "[encoded data removed]",
      "text/plain": [
       "<matplotlib.figure.Figure at 0x10a0259e8>"
      ]
     },
     "metadata": {},
     "output_type": "display_data"
    }
   ],
   "source": [
    "plt.plot(readings, 'r--');"
   ]
  },
  {
   "cell_type": "code",
   "execution_count": 6,
   "metadata": {},
   "outputs": [
    {
     "data": {
      "text/plain": [
       "{'seed': 100,\n",
       " 'start_time': datetime.datetime(2018, 2, 13, 8, 2, 27, 731064),\n",
       " 'update_time': datetime.datetime(2018, 2, 13, 8, 2, 30, 43452)}"
      ]
     },
     "execution_count": 6,
     "metadata": {},
     "output_type": "execute_result"
    }
   ],
   "source": [
    "sensor1.device_state_attributes"
   ]
  },
  {
   "cell_type": "code",
   "execution_count": null,
   "metadata": {},
   "outputs": [],
   "source": []
  }
 ],
 "metadata": {
  "kernelspec": {
   "display_name": "Python 3",
   "language": "python",
   "name": "python3"
  },
  "language_info": {
   "codemirror_mode": {
    "name": "ipython",
    "version": 3
   },
   "file_extension": ".py",
   "mimetype": "text/x-python",
   "name": "python",
   "nbconvert_exporter": "python",
   "pygments_lexer": "ipython3",
   "version": "3.6.3"
  }
 },
 "nbformat": 4,
 "nbformat_minor": 2
}
