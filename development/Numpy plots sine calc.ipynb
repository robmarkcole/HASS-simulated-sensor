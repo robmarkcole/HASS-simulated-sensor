{
 "cells": [
  {
   "cell_type": "code",
   "execution_count": 1,
   "metadata": {},
   "outputs": [],
   "source": [
    "import numpy as np\n",
    "import matplotlib.pyplot as plt\n",
    "%matplotlib inline\n",
    "import datetime as dt\n",
    "import time"
   ]
  },
  {
   "cell_type": "code",
   "execution_count": 2,
   "metadata": {},
   "outputs": [],
   "source": [
    "SCAN_INTERVAL = dt.timedelta(seconds = 0.01)"
   ]
  },
  {
   "cell_type": "code",
   "execution_count": 3,
   "metadata": {},
   "outputs": [],
   "source": [
    "def sine_calc(a, t, t0, w):\n",
    "    return (a * np.sin(2*np.pi*(t - t0)/w))"
   ]
  },
  {
   "cell_type": "code",
   "execution_count": 4,
   "metadata": {},
   "outputs": [],
   "source": [
    "class sine_class():\n",
    "    def __init__(self, amplitude, period, sigma):\n",
    "        self._start_time = dt.datetime.now()\n",
    "        self._amplitude = amplitude\n",
    "        self._period = period.total_seconds()*1e6   # timedelta\n",
    "        self._sigma = sigma\n",
    "        self._state = None\n",
    "    \n",
    "    def time_delta(self):\n",
    "        dt1 = self._start_time\n",
    "        dt2 = dt.datetime.now()\n",
    "        delta_milliseconds = (dt2 - dt1).total_seconds()*1e6 \n",
    "        return delta_milliseconds\n",
    "    \n",
    "    def sine_calc(self):\n",
    "        a = self._amplitude\n",
    "        delta_t = self.time_delta()\n",
    "        w = self._period\n",
    "        s = self._sigma\n",
    "        return (a * np.sin(2*np.pi*(delta_t)/w))# + np.random.normal(0, s)\n",
    "    \n",
    "    def update(self):\n",
    "        self._state = self.sine_calc()"
   ]
  },
  {
   "cell_type": "code",
   "execution_count": 9,
   "metadata": {},
   "outputs": [
    {
     "name": "stdout",
     "output_type": "stream",
     "text": [
      "CPU times: user 10.9 ms, sys: 3.91 ms, total: 14.8 ms\n",
      "Wall time: 1.01 s\n"
     ]
    }
   ],
   "source": [
    "%%time\n",
    "amplitude = 1\n",
    "period = dt.timedelta(seconds=1)\n",
    "sigma = 0.0001\n",
    "times = []\n",
    "readings = []\n",
    "sine_obj = sine_class(amplitude, period, sigma)\n",
    "\n",
    "for i in range(100):\n",
    "    times.append(dt.datetime.now())\n",
    "    sine_obj.update()\n",
    "    readings.append(sine_obj._state)\n",
    "    time.sleep((1/1.15)*SCAN_INTERVAL.total_seconds())  # Takes slightly longer than a second to run so normalise"
   ]
  },
  {
   "cell_type": "code",
   "execution_count": 10,
   "metadata": {},
   "outputs": [
    {
     "data": {
      "image/png": "[encoded data removed]",
      "text/plain": [
       "<matplotlib.figure.Figure at 0x10a5fefd0>"
      ]
     },
     "metadata": {},
     "output_type": "display_data"
    }
   ],
   "source": [
    "plt.plot(times, readings, 'r*');"
   ]
  },
  {
   "cell_type": "code",
   "execution_count": null,
   "metadata": {},
   "outputs": [],
   "source": []
  }
 ],
 "metadata": {
  "kernelspec": {
   "display_name": "Python 3",
   "language": "python",
   "name": "python3"
  },
  "language_info": {
   "codemirror_mode": {
    "name": "ipython",
    "version": 3
   },
   "file_extension": ".py",
   "mimetype": "text/x-python",
   "name": "python",
   "nbconvert_exporter": "python",
   "pygments_lexer": "ipython3",
   "version": "3.6.3"
  }
 },
 "nbformat": 4,
 "nbformat_minor": 2
}
